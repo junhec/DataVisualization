{
 "cells": [
  {
   "cell_type": "code",
   "execution_count": 78,
   "metadata": {
    "collapsed": false
   },
   "outputs": [],
   "source": [
    "import pickle as p\n",
    "import random\n",
    "import copy\n",
    "import pandas as pd\n",
    "import scipy as sp\n",
    "import scipy.cluster\n",
    "import scipy.cluster.hierarchy as hierarchy\n",
    "import scipy.spatial.distance\n",
    "from sklearn import metrics\n",
    "from sklearn import preprocessing\n",
    "import numpy as np\n",
    "import matplotlib.pyplot as plt"
   ]
  },
  {
   "cell_type": "code",
   "execution_count": 30,
   "metadata": {
    "collapsed": false
   },
   "outputs": [],
   "source": [
    "state_center = p.load( open( \"state_center.p\", \"rb\" ) )\n",
    "state_pop = p.load(open(\"state_population.p\", \"rb\"))"
   ]
  },
  {
   "cell_type": "code",
   "execution_count": 31,
   "metadata": {
    "collapsed": false
   },
   "outputs": [],
   "source": [
    "states = {}\n",
    "for state in state_center:\n",
    "    value = copy.deepcopy(state_center[state])\n",
    "    value.append(state_pop[state])\n",
    "    states[state] = value"
   ]
  },
  {
   "cell_type": "code",
   "execution_count": 74,
   "metadata": {
    "collapsed": false
   },
   "outputs": [
    {
     "data": {
      "text/html": [
       "<div>\n",
       "<style scoped>\n",
       "    .dataframe tbody tr th:only-of-type {\n",
       "        vertical-align: middle;\n",
       "    }\n",
       "\n",
       "    .dataframe tbody tr th {\n",
       "        vertical-align: top;\n",
       "    }\n",
       "\n",
       "    .dataframe thead th {\n",
       "        text-align: right;\n",
       "    }\n",
       "</style>\n",
       "<table border=\"1\" class=\"dataframe\">\n",
       "  <thead>\n",
       "    <tr style=\"text-align: right;\">\n",
       "      <th></th>\n",
       "      <th>0</th>\n",
       "      <th>1</th>\n",
       "      <th>2</th>\n",
       "    </tr>\n",
       "  </thead>\n",
       "  <tbody>\n",
       "    <tr>\n",
       "      <th>New Hampshire</th>\n",
       "      <td>43.452492</td>\n",
       "      <td>-71.563896</td>\n",
       "      <td>2371.0</td>\n",
       "    </tr>\n",
       "    <tr>\n",
       "      <th>Nebraska</th>\n",
       "      <td>41.125370</td>\n",
       "      <td>-98.268082</td>\n",
       "      <td>352.0</td>\n",
       "    </tr>\n",
       "    <tr>\n",
       "      <th>Louisiana</th>\n",
       "      <td>31.169546</td>\n",
       "      <td>-91.867805</td>\n",
       "      <td>2406.0</td>\n",
       "    </tr>\n",
       "    <tr>\n",
       "      <th>South Carolina</th>\n",
       "      <td>33.856892</td>\n",
       "      <td>-80.945007</td>\n",
       "      <td>3075.0</td>\n",
       "    </tr>\n",
       "    <tr>\n",
       "      <th>Illinois</th>\n",
       "      <td>40.349457</td>\n",
       "      <td>-88.986137</td>\n",
       "      <td>5213.0</td>\n",
       "    </tr>\n",
       "  </tbody>\n",
       "</table>\n",
       "</div>"
      ],
      "text/plain": [
       "                        0          1       2\n",
       "New Hampshire   43.452492 -71.563896  2371.0\n",
       "Nebraska        41.125370 -98.268082   352.0\n",
       "Louisiana       31.169546 -91.867805  2406.0\n",
       "South Carolina  33.856892 -80.945007  3075.0\n",
       "Illinois        40.349457 -88.986137  5213.0"
      ]
     },
     "execution_count": 74,
     "metadata": {},
     "output_type": "execute_result"
    }
   ],
   "source": [
    "df = pd.DataFrame.from_dict(states, orient='index', dtype = float)\n",
    "df[2] = df[2].apply(lambda x: float(x.replace(',', '')))\n",
    "df[:5]"
   ]
  },
  {
   "cell_type": "code",
   "execution_count": 75,
   "metadata": {
    "collapsed": false
   },
   "outputs": [
    {
     "data": {
      "text/plain": [
       "array([[  6.63533713e-01,   1.14018416e+00,  -3.30309750e-01],\n",
       "       [  2.76309044e-01,  -2.58071355e-01,  -4.71158215e-01],\n",
       "       [ -1.38030400e+00,   7.70529827e-02,  -3.27868098e-01],\n",
       "       [ -9.33139361e-01,   6.48980642e-01,  -2.81197656e-01],\n",
       "       [  1.47199932e-01,   2.27939746e-01,  -1.32047573e-01],\n",
       "       [  8.04519699e-01,  -3.19372683e-01,  -4.89784535e-01],\n",
       "       [ -1.10789233e+00,   3.42872313e-01,  -4.37463411e-01],\n",
       "       [ -1.56116869e-01,  -1.77351983e-01,  -4.30905830e-01],\n",
       "       [ -1.91573441e-01,  -1.24179109e+00,  -2.34317929e-01],\n",
       "       [ -3.05678543e+00,  -3.35942149e+00,  -4.24487773e-01],\n",
       "       [  1.34183523e+00,  -3.37446831e-01,  -4.49532150e-01],\n",
       "       [  1.14016334e-01,  -9.69884017e-01,  -2.68431301e-01],\n",
       "       [ -2.82122688e-01,   7.94284213e-01,  -5.97048993e-02],\n",
       "       [ -6.67044412e-02,   8.65906976e-01,  -2.01214046e-03],\n",
       "       [  1.03658807e+00,  -2.93646532e-02,  -3.26612391e-01],\n",
       "       [  1.87350545e-01,   8.44561841e-01,   9.47470573e-02],\n",
       "       [ -6.38089632e-01,   7.08598148e-01,  -1.11188885e-01],\n",
       "       [  7.99321643e-01,   1.94932946e-01,  -4.06349783e-01],\n",
       "       [ -1.39944940e+00,  -2.21176757e-01,   7.81479244e-01],\n",
       "       [  6.39965849e-02,   3.70772929e-01,  -3.37564946e-01],\n",
       "       [  1.38788096e-01,   9.85346928e-01,   1.62133792e+00],\n",
       "       [  5.47634310e-01,  -7.31121193e-01,  -4.93063325e-01],\n",
       "       [  8.49819283e-01,  -1.50441059e+00,  -3.53051999e-01],\n",
       "       [ -1.11871225e+00,   1.91676725e-01,  -4.70948930e-01],\n",
       "       [ -1.06896423e+00,   5.07707395e-01,   2.47036408e-01],\n",
       "       [ -9.54293832e-01,  -9.47305311e-01,  -3.07637263e-01],\n",
       "       [  1.32053483e+00,  -1.47401801e+00,  -1.86810349e-01],\n",
       "       [  7.94648567e-01,  -1.10688079e+00,  -4.66833002e-01],\n",
       "       [  3.68746058e-01,   1.14291301e+00,  -4.08372866e-01],\n",
       "       [  4.60143927e-01,   1.14195344e+00,   3.77431727e+00],\n",
       "       [ -7.47971476e-01,   5.05940716e-02,  -4.61321843e-01],\n",
       "       [  1.53743636e-01,   5.53688600e-01,  -1.85624403e-01],\n",
       "       [  1.24083479e+00,  -8.96155612e-01,  -4.74785813e-01],\n",
       "       [  6.42588736e-01,   4.60948001e-01,  -2.07808560e-01],\n",
       "       [  4.23764355e-01,   6.74688722e-03,  -4.46113837e-01],\n",
       "       [ -2.43437508e-02,   9.33712262e-01,  -4.40881725e-01],\n",
       "       [  4.49420513e-01,   9.62986724e-01,   1.29366816e+00],\n",
       "       [  8.70107327e-01,   1.25443405e+00,  -4.69483939e-01],\n",
       "       [  3.64506127e+00,  -3.09269931e+00,  -4.73530106e-01],\n",
       "       [ -7.69468058e-01,  -6.75932373e-01,  -4.23301827e-01],\n",
       "       [ -2.98961503e-01,   4.53933105e-01,  -4.27557278e-01],\n",
       "       [  7.62270661e-01,   1.08013720e+00,  -4.86924313e-01],\n",
       "       [ -6.18491633e-01,   3.48044786e-01,  -3.79631129e-01],\n",
       "       [  3.54916689e-01,   1.07779745e+00,   5.81752075e-01],\n",
       "       [ -5.57198196e-01,  -1.37930079e+00,   2.07450861e+00],\n",
       "       [ -6.48859471e-01,  -1.87951455e-01,  -4.52531895e-01],\n",
       "       [ -9.44107692e-02,   8.54140642e-01,  -3.79142799e-01],\n",
       "       [ -1.94659530e+00,   6.10140575e-01,   4.58982918e+00],\n",
       "       [ -1.67850309e-01,   5.50319206e-02,  -3.67771675e-01],\n",
       "       [ -6.73924903e-02,  -6.26850406e-01,  -2.99893737e-01],\n",
       "       [ -1.62002974e-01,   6.48486041e-01,  -4.74716051e-01]])"
      ]
     },
     "execution_count": 75,
     "metadata": {},
     "output_type": "execute_result"
    }
   ],
   "source": [
    "x_train = preprocessing.scale(df.values)\n",
    "x_train"
   ]
  },
  {
   "cell_type": "code",
   "execution_count": 82,
   "metadata": {
    "collapsed": false
   },
   "outputs": [
    {
     "data": {
      "image/png": "[encoded data removed]",
      "text/plain": [
       "<matplotlib.figure.Figure at 0x10b0d2a90>"
      ]
     },
     "metadata": {},
     "output_type": "display_data"
    },
    {
     "name": "stdout",
     "output_type": "stream",
     "text": [
      "The best numbers of hierarchical clusters: 18\n",
      "labels: [16  5 12 13 17  5 12 11 10 18  6 10 17 17  4 17 13  4 14 17 15  5  7 12 13\n",
      "  9  7  7 16  1 11 17  6  4  5 17 15 16  8  9 17 16 13 15  3 11 17  2 11 10\n",
      " 17]\n"
     ]
    },
    {
     "data": {
      "image/png": "[encoded data removed]",
      "text/plain": [
       "<matplotlib.figure.Figure at 0x10a9aa5c0>"
      ]
     },
     "metadata": {},
     "output_type": "display_data"
    }
   ],
   "source": [
    "Z = hierarchy.linkage(x_train, method='ward', metric='euclidean')\n",
    "\n",
    "# find the best number of clusters\n",
    "max_clusters = 35\n",
    "s_hier = np.zeros(max_clusters+1)\n",
    "for k in range(2,max_clusters+1):\n",
    "    clusters = hierarchy.fcluster(Z, k, criterion='maxclust')\n",
    "    s_hier[k] = metrics.silhouette_score(x_train,clusters,metric='euclidean')\n",
    "\n",
    "\n",
    "plt.plot(range(2,len(s_hier)),s_hier[2:])\n",
    "plt.xlabel('Number of clusters')\n",
    "plt.ylabel('Silhouette Score')\n",
    "plt.show()\n",
    "\n",
    "\n",
    "# the best number of clusters\n",
    "best_n_hierarchical_clusters = s_hier[5:].argmax() + 5\n",
    "print ('The best numbers of hierarchical clusters: {0}'.format(best_n_hierarchical_clusters))\n",
    "\n",
    "# hierarchical clustering based on the best number of clusters\n",
    "hierarchical = hierarchy.fcluster(Z, best_n_hierarchical_clusters, criterion='maxclust')\n",
    "print ('labels: {0}'.format(hierarchical))\n",
    "\n",
    "colors_hier = [(random.random(), random.random(), random.random()) for i in range(best_n_hierarchical_clusters)]\n",
    "hierarchical_shifted = [x-1 for x in hierarchical]\n",
    "label_color_hier = [colors_hier[i] for i in hierarchical_shifted]\n",
    "plt.scatter(df[1].values, df[0].values, c=label_color_hier)\n",
    "plt.show()"
   ]
  },
  {
   "cell_type": "code",
   "execution_count": 90,
   "metadata": {
    "collapsed": false
   },
   "outputs": [
    {
     "data": {
      "image/png": "[encoded data removed]",
      "text/plain": [
       "<matplotlib.figure.Figure at 0x10a80eb38>"
      ]
     },
     "metadata": {},
     "output_type": "display_data"
    }
   ],
   "source": [
    "R = hierarchy.dendrogram(Z,truncate_mode='level', show_leaf_counts=True)\n",
    "# R_20ng\n",
    "# plt.figure(figsize=(14,4))\n",
    "plt.show()"
   ]
  },
  {
   "cell_type": "markdown",
   "metadata": {},
   "source": [
    "### Interpretation\n"
   ]
  }
 ],
 "metadata": {
  "kernelspec": {
   "display_name": "Python 3",
   "language": "python",
   "name": "python3"
  },
  "language_info": {
   "codemirror_mode": {
    "name": "ipython",
    "version": 3
   },
   "file_extension": ".py",
   "mimetype": "text/x-python",
   "name": "python",
   "nbconvert_exporter": "python",
   "pygments_lexer": "ipython3",
   "version": "3.5.2"
  }
 },
 "nbformat": 4,
 "nbformat_minor": 0
}
